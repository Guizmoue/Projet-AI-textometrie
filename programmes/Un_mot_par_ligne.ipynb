{
 "cells": [
  {
   "cell_type": "markdown",
   "id": "94cb4cf4-6f75-4fd9-8285-a3acce376a6c",
   "metadata": {},
   "source": [
    "## Un mot par ligne"
   ]
  },
  {
   "cell_type": "code",
   "execution_count": 38,
   "id": "f9d3cb54-6c5c-4d1a-924c-9c02726a7b0a",
   "metadata": {},
   "outputs": [],
   "source": [
    "def mot_par_ligne(file_path:str) -> str:\n",
    "    import string\n",
    "    with open(file_path, 'r', encoding='utf-8') as file:\n",
    "        contenu = file.read()\n",
    "        contenu = contenu.replace('’', ' ')\n",
    "        contenu = contenu.replace(\"'\", ' ')\n",
    "    text = \"\"\n",
    "    list_punct_fr = [\"'\",\"«\",\"»\",\"“\",\"”\",\"’\",\"‘\",\"—\",\"'\",\"--\",\"×\",\"(\",\")\"]\n",
    "    list_word = [i for i in contenu.split() if i not in string.punctuation and i not in list_punct_fr]\n",
    "    text = '\\n'.join(list_word)\n",
    "    return text"
   ]
  }
 ],
 "metadata": {
  "kernelspec": {
   "display_name": "Python 3 (ipykernel)",
   "language": "python",
   "name": "python3"
  },
  "language_info": {
   "codemirror_mode": {
    "name": "ipython",
    "version": 3
   },
   "file_extension": ".py",
   "mimetype": "text/x-python",
   "name": "python",
   "nbconvert_exporter": "python",
   "pygments_lexer": "ipython3",
   "version": "3.11.5"
  }
 },
 "nbformat": 4,
 "nbformat_minor": 5
}
